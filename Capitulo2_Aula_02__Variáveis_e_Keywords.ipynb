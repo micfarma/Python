{
  "nbformat": 4,
  "nbformat_minor": 0,
  "metadata": {
    "colab": {
      "provenance": [],
      "authorship_tag": "ABX9TyNKvxveQum4brZ75gJ5rOLa"
    },
    "kernelspec": {
      "name": "python3",
      "display_name": "Python 3"
    },
    "language_info": {
      "name": "python"
    }
  },
  "cells": [
    {
      "cell_type": "code",
      "execution_count": 2,
      "metadata": {
        "colab": {
          "base_uri": "https://localhost:8080/"
        },
        "id": "AdUnhsyr3eI3",
        "outputId": "e3b7b299-bc2a-4675-a01e-fb708092e65b"
      },
      "outputs": [
        {
          "output_type": "stream",
          "name": "stdout",
          "text": [
            "Michelle Batista Dias 36 1.86\n"
          ]
        }
      ],
      "source": [
        "pessoa = 'Michelle Batista Dias'\n",
        "idade = 36\n",
        "altura = 1.86\n",
        "print(pessoa, idade, altura)"
      ]
    },
    {
      "cell_type": "code",
      "source": [
        "#• Uma variável pode conter letras e números, mas não pode começar com um\n",
        "número\n",
        "#• É permitido utilizar letras minúsculas e maiúsculas para nomes de variáveis.\n",
        "#Entretanto, é recomendável utilizar apenas letras minúsculas\n",
        "# Não é permitido utilizar caracteres especiais, espaço em branco e pontuação\n",
        "# @ # $ % * ^ ' \" [ ] ( ) { } (. ! : ? ;)\n",
        "# O único símbolo permitido é o caractere underline/sublinhado (_), e as variáveis\n",
        "#podem começar com ele também\n",
        "# Versões recentes do Python suportam letras acentuadas, mas é extremamente\n",
        "#recomendável não utilizá-las#"
      ],
      "metadata": {
        "id": "Q65JBJcucZ7N"
      },
      "execution_count": null,
      "outputs": []
    }
  ]
}
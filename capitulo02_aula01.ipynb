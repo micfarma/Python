{
  "nbformat": 4,
  "nbformat_minor": 0,
  "metadata": {
    "colab": {
      "provenance": [],
      "include_colab_link": true
    },
    "kernelspec": {
      "name": "python3",
      "display_name": "Python 3"
    },
    "language_info": {
      "name": "python"
    }
  },
  "cells": [
    {
      "cell_type": "markdown",
      "metadata": {
        "id": "view-in-github",
        "colab_type": "text"
      },
      "source": [
        "<a href=\"https://colab.research.google.com/github/micfarma/Python/blob/main/capitulo02_aula01.ipynb\" target=\"_parent\"><img src=\"https://colab.research.google.com/assets/colab-badge.svg\" alt=\"Open In Colab\"/></a>"
      ]
    },
    {
      "cell_type": "code",
      "execution_count": null,
      "metadata": {
        "colab": {
          "base_uri": "https://localhost:8080/",
          "height": 133
        },
        "id": "H5uF1j5FLP8L",
        "outputId": "60f58928-7564-47a3-db9f-6f22dee75f7a"
      },
      "outputs": [
        {
          "output_type": "error",
          "ename": "SyntaxError",
          "evalue": "ignored",
          "traceback": [
            "\u001b[0;36m  File \u001b[0;32m\"<ipython-input-12-a56f5b9fc296>\"\u001b[0;36m, line \u001b[0;32m12\u001b[0m\n\u001b[0;31m    elif (i > limiar):\u001b[0m\n\u001b[0m       ^\u001b[0m\n\u001b[0;31mSyntaxError\u001b[0m\u001b[0;31m:\u001b[0m invalid syntax\n"
          ]
        }
      ],
      "source": [
        "# define o valor do limiar\n",
        "# criar um novo comentário\n",
        "limiar = 5 # um novo comentário\n",
        "\n",
        "menores = [] # cria lista menores\n",
        "maiores = [] # cria lista maiores\n",
        "\n",
        "# divide os números de 1 a 10 em maiores e menores\n",
        "for i in range(10):\n",
        "    if (i < limiar):\n",
        "        menores.append(i)\n",
        "    elif (i > limiar):\n",
        "        maiores.append(i)\n",
        "\n",
        "# imprime na tela os valores das listas↵\n",
        "print('Resultado final')\n",
        "print('menores:', menores)\n",
        "print('maiores:', maiores)"
      ]
    }
  ]
}